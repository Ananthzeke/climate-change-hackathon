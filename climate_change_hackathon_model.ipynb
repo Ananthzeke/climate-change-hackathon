{
  "nbformat": 4,
  "nbformat_minor": 0,
  "metadata": {
    "colab": {
      "private_outputs": true,
      "provenance": [],
      "authorship_tag": "ABX9TyO96kfVIcNAy4S+j1AA8GG7",
      "include_colab_link": true
    },
    "kernelspec": {
      "name": "python3",
      "display_name": "Python 3"
    },
    "language_info": {
      "name": "python"
    }
  },
  "cells": [
    {
      "cell_type": "markdown",
      "metadata": {
        "id": "view-in-github",
        "colab_type": "text"
      },
      "source": [
        "<a href=\"https://colab.research.google.com/github/livinNector/climate-change-hackathon/blob/main/climate_change_hackathon_model.ipynb\" target=\"_parent\"><img src=\"https://colab.research.google.com/assets/colab-badge.svg\" alt=\"Open In Colab\"/></a>"
      ]
    },
    {
      "cell_type": "code",
      "source": [
        "!pip install cond-rnn"
      ],
      "metadata": {
        "id": "1pVxiDDDvdEW"
      },
      "execution_count": null,
      "outputs": []
    },
    {
      "cell_type": "code",
      "execution_count": null,
      "metadata": {
        "id": "e2sV78zmvJkR"
      },
      "outputs": [],
      "source": [
        "import numpy as np\n",
        "import pandas as pd\n",
        "import matplotlib.pyplot as plt\n",
        "import tensorflow as tf\n",
        "import tensorflow.keras.layers as tfl"
      ]
    },
    {
      "cell_type": "code",
      "source": [
        "from cond_rnn import ConditionalRecurrent"
      ],
      "metadata": {
        "id": "zG3F0TZlwMhj"
      },
      "execution_count": null,
      "outputs": []
    },
    {
      "cell_type": "code",
      "source": [
        "years = np.repeat(np.repeat(np.arange(2018,2023),12).reshape(1,-1),50,axis=0)\n",
        "months = np.repeat(np.repeat(np.arange(12).reshape(1,12),5,axis=0).reshape(1,-1),50,axis=0)\n",
        "years,months,years.shape,months.shape"
      ],
      "metadata": {
        "id": "TjD8TrgWA1l2"
      },
      "execution_count": null,
      "outputs": []
    },
    {
      "cell_type": "code",
      "source": [
        "aqi_features = [\"aqi\",\"so2\",\"nox\",\"pm10\",\"pm2.5\",\"co\",\"o3\"]\n",
        "meteorological_features = [\"rainfall\",\"max_humidity\",\"min_humidity\",\"temp_min\",\"temp_max\",\"wind_speed\"]\n",
        "temporal_features = [\"month_sin\",\"month_cos\",\"year\"]\n",
        "\n",
        "time_series_features = aqi_features + meteorological_features + temporal_features\n",
        "geo_spatial_features = [\"lat\",\"long\",\"alt\"]\n",
        "\n",
        "features ={\n",
        "    name:tf.random.normal((50,60))\n",
        "    for name in aqi_features+meteorological_features\n",
        "}\n",
        "features[\"year\"] = tf.constant(years)\n",
        "features[\"months_sin\"] = tf.constant(np.sin(months*2*np.pi/12))\n",
        "features[\"months_cos\"] = tf.constant(np.cos(months*2*np.pi/12))\n",
        "\n",
        "\n",
        "for f in geo_spatial_features:\n",
        "  features[f] = tf.random.normal((50,1))\n",
        "\n",
        "\n",
        "\n",
        "dataset = tf.data.Dataset.from_tensor_slices(features)\n"
      ],
      "metadata": {
        "id": "s03QOq2-w4J0"
      },
      "execution_count": null,
      "outputs": []
    },
    {
      "cell_type": "code",
      "source": [
        "next(dataset.batch(12).as_numpy_iterator())"
      ],
      "metadata": {
        "id": "AnA3fikhCxPj"
      },
      "execution_count": null,
      "outputs": []
    },
    {
      "cell_type": "code",
      "source": [
        "next(dataset.window(12,stride=1,drop_remainder=True).flat_map(lambda ys:{k:value.batch(12) for k,value in ys.items()}).as_numpy_iterator()).shape"
      ],
      "metadata": {
        "id": "iG4FO5uDWVhY"
      },
      "execution_count": null,
      "outputs": []
    },
    {
      "cell_type": "code",
      "source": [
        "# class TeacherForcer(tf.keras.layers.Layer):\n",
        "#   def __init__(self,layer,output_length):\n",
        "#     self.layer = layer\n",
        "  \n",
        "#   def call(self,inputs):\n",
        "#     output\n",
        "#     for i in range(1,output_length):\n",
        "\n"
      ],
      "metadata": {
        "id": "cu4G3M3VwJ-U"
      },
      "execution_count": null,
      "outputs": []
    },
    {
      "cell_type": "code",
      "source": [
        "inputs = [tf.keras.Input(shape=(60,1),name=name) for name in aqi_features+meteorological_features+temporal_features]\n",
        "\n",
        "inputs_concat = tf.keras.layers.concatenate(inputs)\n",
        "cond_inputs = [tf.keras.Input(shape=(1),name=name) for name in geo_spatial_features]\n",
        "cond_concat = tf.keras.layers.concatenate(cond_inputs)\n",
        "\n",
        "encoder_output = ConditionalRecurrent(tfl.LSTM(16,activation=\"relu\"))([inputs_concat,cond_concat])\n",
        "\n",
        "# x  = tfl.LSTM(12)(encoder_output)\n",
        "x  = encoder_output\n",
        "aqi_out = tfl.Dense(1,activation = \"relu\",name=\"aqi_out\")(x)\n",
        "temp_high_out = tfl.Dense(1,activation = \"relu\",name=\"temp_high_out\")(x)\n",
        "humid_high_out = tfl.Dense(1,activation = \"relu\",name=\"humid_high_out\")(x)\n",
        "\n",
        "encoder_model = tf.keras.Model(inputs = inputs+cond_inputs,outputs = encoder_output)\n",
        "decoder_model = tf.keras.Model(inputs = encoder_output,outputs = [aqi_out,temp_high_out,humid_high_out])\n",
        "\n",
        "model = tf.keras.Model(inputs = inputs+cond_inputs,outputs = [aqi_out,temp_high_out,humid_high_out])\n"
      ],
      "metadata": {
        "id": "PYFgsqflFhEj"
      },
      "execution_count": null,
      "outputs": []
    },
    {
      "cell_type": "code",
      "source": [
        "tf.keras.utils.plot_model(model,rankdir=\"LR\",show_shapes=True)"
      ],
      "metadata": {
        "id": "3TICjE0n_wSj"
      },
      "execution_count": null,
      "outputs": []
    },
    {
      "cell_type": "markdown",
      "source": [
        "```\n",
        "data{\n",
        "  lat : val,\n",
        "  long : val,\n",
        "  features: {\n",
        "    f1:[vals],\n",
        "    f2:[vals],\n",
        "    f3:[vals],\n",
        "  }\n",
        "}\n",
        "```"
      ],
      "metadata": {
        "id": "2ZDg40jYxEtV"
      }
    },
    {
      "cell_type": "code",
      "source": [
        "def get_input_feature(name):\n",
        "  \n"
      ],
      "metadata": {
        "id": "NVirpQ_owSWZ"
      },
      "execution_count": null,
      "outputs": []
    }
  ]
}