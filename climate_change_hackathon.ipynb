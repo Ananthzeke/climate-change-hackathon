{
  "cells": [
    {
      "cell_type": "code",
      "execution_count": 1,
      "metadata": {
        "id": "8W4ehfllPuBU"
      },
      "outputs": [],
      "source": [
        "import bs4\n",
        "import re\n",
        "import os\n",
        "import json\n",
        "\n",
        "import requests\n",
        "import urllib\n",
        "from urllib.parse import urlparse\n",
        "from urllib.parse import urljoin\n",
        "\n",
        "import aiohttp\n",
        "import aiofiles\n",
        "\n",
        "import numpy as np\n",
        "import pandas as pd\n",
        "\n",
        "import seaborn as sns\n",
        "import matplotlib.pyplot as plt\n",
        "from datetime import datetime"
      ]
    },
    {
      "cell_type": "markdown",
      "metadata": {
        "id": "LW7ZFeMnj61Y"
      },
      "source": [
        "# Utility functions"
      ]
    },
    {
      "cell_type": "code",
      "execution_count": 2,
      "metadata": {
        "id": "zUjlJbuJj5pH"
      },
      "outputs": [],
      "source": [
        "def get_json(url):\n",
        "  return requests.get(url).json()\n",
        "\n",
        "def get_soup(url):\n",
        "  return bs4.BeautifulSoup(requests.get(url,verify=False).text)\n",
        "\n",
        "def download(url,outfile):\n",
        "  with open(outfile,\"wb\") as f:\n",
        "    res = requests.get(url,verify=False)\n",
        "    f.write(res.content)\n",
        "\n",
        "def get_base_url(url):\n",
        "  scheme,netloc,*_= urllib.parse.urlparse(url)\n",
        "  return f\"{scheme}://{netloc}\"\n",
        "\n",
        "async def download_urls_async(urls,out_folder,base_url=None,verbose=True):\n",
        "  os.makedirs(out_folder,exist_ok=True)\n",
        "  async with aiohttp.ClientSession(base_url) as session:\n",
        "    for url in urls:\n",
        "      async with session.get(url,verify_ssl =False) as res:\n",
        "        filename =os.path.join(out_folder,url.split(\"/\")[-1])\n",
        "        print(filename)\n",
        "        async with aiofiles.open(filename, \"wb\") as f:\n",
        "          await f.write(await res.content.read())\n"
      ]
    },
    {
      "attachments": {},
      "cell_type": "markdown",
      "metadata": {
        "id": "MfsXNovO8SiI"
      },
      "source": [
        "## Cleaning"
      ]
    },
    {
      "cell_type": "code",
      "execution_count": 123,
      "metadata": {
        "id": "3FcDpK0a8U_m"
      },
      "outputs": [],
      "source": [
        "def process_df(df,header_start,header_end=None,footer_start=None,start_column=0):  \n",
        "  start_row = df[df[start_column].eq(header_start)].index.values[0]\n",
        "  try:\n",
        "    end_row = df[df[start_column].eq(footer_start)].index.values[0]\n",
        "  except:\n",
        "    end_row = None\n",
        "  \n",
        "  df = df.iloc[start_row:end_row,start_column:]\n",
        "  df.drop(df.iloc[0][df.iloc[0].isna()].index,axis=1,inplace=True)\n",
        "  df.drop(df.iloc[:,0][df.iloc[:,0].isna()].index,axis=0,inplace=True)\n",
        "  df.columns = df.iloc[0]\n",
        "  df.columns.name=None\n",
        "  try:\n",
        "    end_row = df.columns.get_loc(header_end)+1\n",
        "  except:\n",
        "    end_row =None\n",
        "  df = df.iloc[1:,:end_row].set_index(header_start,drop=True)\n",
        "  return df"
      ]
    },
    {
      "cell_type": "markdown",
      "metadata": {
        "id": "JQAIB5xad8Ba"
      },
      "source": [
        "## AQI Dataset"
      ]
    },
    {
      "cell_type": "code",
      "execution_count": 3,
      "metadata": {
        "id": "AVOygXA8QL3O"
      },
      "outputs": [
        {
          "name": "stderr",
          "output_type": "stream",
          "text": [
            "/home/livinnector/anaconda3/envs/ml/lib/python3.10/site-packages/urllib3/connectionpool.py:1043: InsecureRequestWarning: Unverified HTTPS request is being made to host 'tspcb.cgg.gov.in'. Adding certificate verification is strongly advised. See: https://urllib3.readthedocs.io/en/1.26.x/advanced-usage.html#ssl-warnings\n",
            "  warnings.warn(\n"
          ]
        }
      ],
      "source": [
        "datasets_homepage = \"https://tspcb.cgg.gov.in/Pages/Envdata.aspx\"\n",
        "soup = get_soup(datasets_homepage)"
      ]
    },
    {
      "cell_type": "code",
      "execution_count": 4,
      "metadata": {
        "id": "UXXw6ED4QSXt"
      },
      "outputs": [
        {
          "name": "stdout",
          "output_type": "stream",
          "text": [
            "aqi/AQI 2016.xls\n",
            "aqi/AQI 2017.xlsx\n",
            "aqi/Monthly AQI Jan - Dec 2018.xlsx\n",
            "aqi/MonthlyAQI2019.xlsx\n",
            "aqi/MonthlyAQI2020.xls\n",
            "aqi/MonthlyAQI2021.xls\n",
            "aqi/MonthlyAQI2022.xls\n"
          ]
        }
      ],
      "source": [
        "aqi_links = [\n",
        "    urllib.parse.unquote(a[\"href\"])\n",
        "    for a in soup.find_all(\"a\",text=re.compile(\".*AQI 20*\"))\n",
        "]\n",
        "await download_urls_async(aqi_links,\"aqi\",get_base_url(datasets_homepage))"
      ]
    },
    {
      "cell_type": "code",
      "execution_count": 239,
      "metadata": {},
      "outputs": [
        {
          "name": "stdout",
          "output_type": "stream",
          "text": [
            "AQI 2016 41 41\n",
            "AQI 2017 42 42\n",
            "AQI 2018 42 42\n",
            "AQI 2019 42 42\n",
            "AQI 2020 42 42\n",
            "AQI 2021 43 43\n",
            "AQI 2022 51 51\n"
          ]
        }
      ],
      "source": [
        "datasets = pd.read_excel(\"aqi/AQI 2016_2022.xlsx\",header=0,index_col=0,sheet_name=None)\n",
        "for name, dataset in datasets.items():\n",
        "    dataset.rename(lambda x: x.split(\",\")[0].strip(),inplace=True)\n",
        "    print(name,len(dataset.index),len(dataset.index.unique()))\n",
        "combined_df = pd.concat(datasets.values(),axis=1).sort_index().apply(lambda c: pd.to_numeric(c,errors=\"coerce\"))\n"
      ]
    },
    {
      "cell_type": "code",
      "execution_count": 242,
      "metadata": {},
      "outputs": [],
      "source": [
        "combined_df.to_excel(\"aqi/AQI all_processed.xlsx\")"
      ]
    },
    {
      "cell_type": "code",
      "execution_count": 245,
      "metadata": {},
      "outputs": [
        {
          "data": {
            "text/plain": [
              "52"
            ]
          },
          "execution_count": 245,
          "metadata": {},
          "output_type": "execute_result"
        }
      ],
      "source": [
        "len(combined_df.index)"
      ]
    },
    {
      "cell_type": "code",
      "execution_count": 240,
      "metadata": {},
      "outputs": [
        {
          "data": {
            "image/png": "[encoded data removed]",
            "text/plain": [
              "<Figure size 1440x1440 with 1 Axes>"
            ]
          },
          "metadata": {
            "needs_background": "light"
          },
          "output_type": "display_data"
        }
      ],
      "source": [
        "plt.figure(figsize=(20,20))\n",
        "sns.heatmap(combined_df.isna(),xticklabels=combined_df.columns.to_series().apply(lambda x: datetime.strftime(x,\"%m-%Y\")),cbar=False);"
      ]
    },
    {
      "cell_type": "markdown",
      "metadata": {
        "id": "xidWvYTF6_hP"
      },
      "source": [
        "# AAQ Dataset"
      ]
    },
    {
      "cell_type": "code",
      "execution_count": 5,
      "metadata": {
        "id": "L5K5IzGg7gbW"
      },
      "outputs": [
        {
          "name": "stdout",
          "output_type": "stream",
          "text": [
            "aaq/AAQ Data 2016.xls\n",
            "aaq/AAQ Data 2017.xls\n",
            "aaq/AAQ Data Jan - Dec 2018.xls\n",
            "aaq/AAQData2019.xls\n",
            "aaq/MonthlyAAQData2020.xls\n",
            "aaq/MonthlyAAQData2021.xls\n",
            "aaq/MonthlyAAQData2022.xls\n"
          ]
        }
      ],
      "source": [
        "aaq_links = [\n",
        "    urllib.parse.unquote(a[\"href\"])\n",
        "    for a in soup.find_all(\"a\",text=re.compile(\".*AAQ Data 20*\"))\n",
        "]\n",
        "await download_urls_async(aaq_links,\"aaq\",get_base_url(datasets_homepage))"
      ]
    },
    {
      "cell_type": "code",
      "execution_count": 76,
      "metadata": {},
      "outputs": [],
      "source": [
        "start_column = 1\n",
        "header_start = \"S.NO\" \n",
        "aaq_datasets = sorted(os.listdir(\"aaq\"))"
      ]
    },
    {
      "cell_type": "code",
      "execution_count": 78,
      "metadata": {
        "id": "MW2pbTcx96BV"
      },
      "outputs": [
        {
          "name": "stderr",
          "output_type": "stream",
          "text": [
            "/home/livinnector/anaconda3/envs/ml/lib/python3.10/site-packages/pandas/core/indexes/base.py:6982: FutureWarning: In a future version, the Index constructor will not infer numeric dtypes when passed object-dtype sequences (matching Series behavior)\n",
            "  return Index(sequences[0], name=names)\n",
            "/home/livinnector/anaconda3/envs/ml/lib/python3.10/site-packages/pandas/core/indexes/base.py:6982: FutureWarning: In a future version, the Index constructor will not infer numeric dtypes when passed object-dtype sequences (matching Series behavior)\n",
            "  return Index(sequences[0], name=names)\n",
            "/home/livinnector/anaconda3/envs/ml/lib/python3.10/site-packages/pandas/core/indexes/base.py:6982: FutureWarning: In a future version, the Index constructor will not infer numeric dtypes when passed object-dtype sequences (matching Series behavior)\n",
            "  return Index(sequences[0], name=names)\n",
            "/home/livinnector/anaconda3/envs/ml/lib/python3.10/site-packages/pandas/core/indexes/base.py:6982: FutureWarning: In a future version, the Index constructor will not infer numeric dtypes when passed object-dtype sequences (matching Series behavior)\n",
            "  return Index(sequences[0], name=names)\n",
            "/home/livinnector/anaconda3/envs/ml/lib/python3.10/site-packages/pandas/core/indexes/base.py:6982: FutureWarning: In a future version, the Index constructor will not infer numeric dtypes when passed object-dtype sequences (matching Series behavior)\n",
            "  return Index(sequences[0], name=names)\n",
            "/home/livinnector/anaconda3/envs/ml/lib/python3.10/site-packages/pandas/core/indexes/base.py:6982: FutureWarning: In a future version, the Index constructor will not infer numeric dtypes when passed object-dtype sequences (matching Series behavior)\n",
            "  return Index(sequences[0], name=names)\n",
            "/home/livinnector/anaconda3/envs/ml/lib/python3.10/site-packages/pandas/core/indexes/base.py:6982: FutureWarning: In a future version, the Index constructor will not infer numeric dtypes when passed object-dtype sequences (matching Series behavior)\n",
            "  return Index(sequences[0], name=names)\n",
            "/home/livinnector/anaconda3/envs/ml/lib/python3.10/site-packages/pandas/core/indexes/base.py:6982: FutureWarning: In a future version, the Index constructor will not infer numeric dtypes when passed object-dtype sequences (matching Series behavior)\n",
            "  return Index(sequences[0], name=names)\n",
            "/tmp/ipykernel_46674/1212963646.py:12: FutureWarning: As the xlwt package is no longer maintained, the xlwt engine will be removed in a future version of pandas. This is the only engine in pandas that supports writing in the xls format. Install openpyxl and write to an xlsx file instead. You can set the option io.excel.xls.writer to 'xlwt' to silence this warning. While this option is deprecated and will also raise a warning, it can be globally set and the warning suppressed.\n",
            "  with pd.ExcelWriter(os.path.join(output_folder,dataset)) as writer:\n",
            "/home/livinnector/anaconda3/envs/ml/lib/python3.10/site-packages/pandas/core/indexes/base.py:6982: FutureWarning: In a future version, the Index constructor will not infer numeric dtypes when passed object-dtype sequences (matching Series behavior)\n",
            "  return Index(sequences[0], name=names)\n",
            "/home/livinnector/anaconda3/envs/ml/lib/python3.10/site-packages/pandas/core/indexes/base.py:6982: FutureWarning: In a future version, the Index constructor will not infer numeric dtypes when passed object-dtype sequences (matching Series behavior)\n",
            "  return Index(sequences[0], name=names)\n",
            "/home/livinnector/anaconda3/envs/ml/lib/python3.10/site-packages/pandas/core/indexes/base.py:6982: FutureWarning: In a future version, the Index constructor will not infer numeric dtypes when passed object-dtype sequences (matching Series behavior)\n",
            "  return Index(sequences[0], name=names)\n",
            "/tmp/ipykernel_46674/1212963646.py:12: FutureWarning: As the xlwt package is no longer maintained, the xlwt engine will be removed in a future version of pandas. This is the only engine in pandas that supports writing in the xls format. Install openpyxl and write to an xlsx file instead. You can set the option io.excel.xls.writer to 'xlwt' to silence this warning. While this option is deprecated and will also raise a warning, it can be globally set and the warning suppressed.\n",
            "  with pd.ExcelWriter(os.path.join(output_folder,dataset)) as writer:\n",
            "/home/livinnector/anaconda3/envs/ml/lib/python3.10/site-packages/pandas/core/indexes/base.py:6982: FutureWarning: In a future version, the Index constructor will not infer numeric dtypes when passed object-dtype sequences (matching Series behavior)\n",
            "  return Index(sequences[0], name=names)\n",
            "/home/livinnector/anaconda3/envs/ml/lib/python3.10/site-packages/pandas/core/indexes/base.py:6982: FutureWarning: In a future version, the Index constructor will not infer numeric dtypes when passed object-dtype sequences (matching Series behavior)\n",
            "  return Index(sequences[0], name=names)\n",
            "/home/livinnector/anaconda3/envs/ml/lib/python3.10/site-packages/pandas/core/indexes/base.py:6982: FutureWarning: In a future version, the Index constructor will not infer numeric dtypes when passed object-dtype sequences (matching Series behavior)\n",
            "  return Index(sequences[0], name=names)\n",
            "/home/livinnector/anaconda3/envs/ml/lib/python3.10/site-packages/pandas/core/indexes/base.py:6982: FutureWarning: In a future version, the Index constructor will not infer numeric dtypes when passed object-dtype sequences (matching Series behavior)\n",
            "  return Index(sequences[0], name=names)\n",
            "/home/livinnector/anaconda3/envs/ml/lib/python3.10/site-packages/pandas/core/indexes/base.py:6982: FutureWarning: In a future version, the Index constructor will not infer numeric dtypes when passed object-dtype sequences (matching Series behavior)\n",
            "  return Index(sequences[0], name=names)\n",
            "/home/livinnector/anaconda3/envs/ml/lib/python3.10/site-packages/pandas/core/indexes/base.py:6982: FutureWarning: In a future version, the Index constructor will not infer numeric dtypes when passed object-dtype sequences (matching Series behavior)\n",
            "  return Index(sequences[0], name=names)\n",
            "/home/livinnector/anaconda3/envs/ml/lib/python3.10/site-packages/pandas/core/indexes/base.py:6982: FutureWarning: In a future version, the Index constructor will not infer numeric dtypes when passed object-dtype sequences (matching Series behavior)\n",
            "  return Index(sequences[0], name=names)\n",
            "/home/livinnector/anaconda3/envs/ml/lib/python3.10/site-packages/pandas/core/indexes/base.py:6982: FutureWarning: In a future version, the Index constructor will not infer numeric dtypes when passed object-dtype sequences (matching Series behavior)\n",
            "  return Index(sequences[0], name=names)\n",
            "/home/livinnector/anaconda3/envs/ml/lib/python3.10/site-packages/pandas/core/indexes/base.py:6982: FutureWarning: In a future version, the Index constructor will not infer numeric dtypes when passed object-dtype sequences (matching Series behavior)\n",
            "  return Index(sequences[0], name=names)\n",
            "/home/livinnector/anaconda3/envs/ml/lib/python3.10/site-packages/pandas/core/indexes/base.py:6982: FutureWarning: In a future version, the Index constructor will not infer numeric dtypes when passed object-dtype sequences (matching Series behavior)\n",
            "  return Index(sequences[0], name=names)\n",
            "/tmp/ipykernel_46674/1212963646.py:12: FutureWarning: As the xlwt package is no longer maintained, the xlwt engine will be removed in a future version of pandas. This is the only engine in pandas that supports writing in the xls format. Install openpyxl and write to an xlsx file instead. You can set the option io.excel.xls.writer to 'xlwt' to silence this warning. While this option is deprecated and will also raise a warning, it can be globally set and the warning suppressed.\n",
            "  with pd.ExcelWriter(os.path.join(output_folder,dataset)) as writer:\n",
            "/home/livinnector/anaconda3/envs/ml/lib/python3.10/site-packages/pandas/core/indexes/base.py:6982: FutureWarning: In a future version, the Index constructor will not infer numeric dtypes when passed object-dtype sequences (matching Series behavior)\n",
            "  return Index(sequences[0], name=names)\n",
            "/home/livinnector/anaconda3/envs/ml/lib/python3.10/site-packages/pandas/core/indexes/base.py:6982: FutureWarning: In a future version, the Index constructor will not infer numeric dtypes when passed object-dtype sequences (matching Series behavior)\n",
            "  return Index(sequences[0], name=names)\n",
            "/home/livinnector/anaconda3/envs/ml/lib/python3.10/site-packages/pandas/core/indexes/base.py:6982: FutureWarning: In a future version, the Index constructor will not infer numeric dtypes when passed object-dtype sequences (matching Series behavior)\n",
            "  return Index(sequences[0], name=names)\n",
            "/tmp/ipykernel_46674/1212963646.py:12: FutureWarning: As the xlwt package is no longer maintained, the xlwt engine will be removed in a future version of pandas. This is the only engine in pandas that supports writing in the xls format. Install openpyxl and write to an xlsx file instead. You can set the option io.excel.xls.writer to 'xlwt' to silence this warning. While this option is deprecated and will also raise a warning, it can be globally set and the warning suppressed.\n",
            "  with pd.ExcelWriter(os.path.join(output_folder,dataset)) as writer:\n",
            "/home/livinnector/anaconda3/envs/ml/lib/python3.10/site-packages/pandas/core/indexes/base.py:6982: FutureWarning: In a future version, the Index constructor will not infer numeric dtypes when passed object-dtype sequences (matching Series behavior)\n",
            "  return Index(sequences[0], name=names)\n",
            "/home/livinnector/anaconda3/envs/ml/lib/python3.10/site-packages/pandas/core/indexes/base.py:6982: FutureWarning: In a future version, the Index constructor will not infer numeric dtypes when passed object-dtype sequences (matching Series behavior)\n",
            "  return Index(sequences[0], name=names)\n",
            "/home/livinnector/anaconda3/envs/ml/lib/python3.10/site-packages/pandas/core/indexes/base.py:6982: FutureWarning: In a future version, the Index constructor will not infer numeric dtypes when passed object-dtype sequences (matching Series behavior)\n",
            "  return Index(sequences[0], name=names)\n",
            "/tmp/ipykernel_46674/1212963646.py:12: FutureWarning: As the xlwt package is no longer maintained, the xlwt engine will be removed in a future version of pandas. This is the only engine in pandas that supports writing in the xls format. Install openpyxl and write to an xlsx file instead. You can set the option io.excel.xls.writer to 'xlwt' to silence this warning. While this option is deprecated and will also raise a warning, it can be globally set and the warning suppressed.\n",
            "  with pd.ExcelWriter(os.path.join(output_folder,dataset)) as writer:\n",
            "/home/livinnector/anaconda3/envs/ml/lib/python3.10/site-packages/pandas/core/indexes/base.py:6982: FutureWarning: In a future version, the Index constructor will not infer numeric dtypes when passed object-dtype sequences (matching Series behavior)\n",
            "  return Index(sequences[0], name=names)\n",
            "/home/livinnector/anaconda3/envs/ml/lib/python3.10/site-packages/pandas/core/indexes/base.py:6982: FutureWarning: In a future version, the Index constructor will not infer numeric dtypes when passed object-dtype sequences (matching Series behavior)\n",
            "  return Index(sequences[0], name=names)\n",
            "/home/livinnector/anaconda3/envs/ml/lib/python3.10/site-packages/pandas/core/indexes/base.py:6982: FutureWarning: In a future version, the Index constructor will not infer numeric dtypes when passed object-dtype sequences (matching Series behavior)\n",
            "  return Index(sequences[0], name=names)\n",
            "/tmp/ipykernel_46674/1212963646.py:12: FutureWarning: As the xlwt package is no longer maintained, the xlwt engine will be removed in a future version of pandas. This is the only engine in pandas that supports writing in the xls format. Install openpyxl and write to an xlsx file instead. You can set the option io.excel.xls.writer to 'xlwt' to silence this warning. While this option is deprecated and will also raise a warning, it can be globally set and the warning suppressed.\n",
            "  with pd.ExcelWriter(os.path.join(output_folder,dataset)) as writer:\n",
            "/home/livinnector/anaconda3/envs/ml/lib/python3.10/site-packages/pandas/core/indexes/base.py:6982: FutureWarning: In a future version, the Index constructor will not infer numeric dtypes when passed object-dtype sequences (matching Series behavior)\n",
            "  return Index(sequences[0], name=names)\n",
            "/home/livinnector/anaconda3/envs/ml/lib/python3.10/site-packages/pandas/core/indexes/base.py:6982: FutureWarning: In a future version, the Index constructor will not infer numeric dtypes when passed object-dtype sequences (matching Series behavior)\n",
            "  return Index(sequences[0], name=names)\n",
            "/home/livinnector/anaconda3/envs/ml/lib/python3.10/site-packages/pandas/core/indexes/base.py:6982: FutureWarning: In a future version, the Index constructor will not infer numeric dtypes when passed object-dtype sequences (matching Series behavior)\n",
            "  return Index(sequences[0], name=names)\n",
            "/home/livinnector/anaconda3/envs/ml/lib/python3.10/site-packages/pandas/core/indexes/base.py:6982: FutureWarning: In a future version, the Index constructor will not infer numeric dtypes when passed object-dtype sequences (matching Series behavior)\n",
            "  return Index(sequences[0], name=names)\n",
            "/home/livinnector/anaconda3/envs/ml/lib/python3.10/site-packages/pandas/core/indexes/base.py:6982: FutureWarning: In a future version, the Index constructor will not infer numeric dtypes when passed object-dtype sequences (matching Series behavior)\n",
            "  return Index(sequences[0], name=names)\n",
            "/home/livinnector/anaconda3/envs/ml/lib/python3.10/site-packages/pandas/core/indexes/base.py:6982: FutureWarning: In a future version, the Index constructor will not infer numeric dtypes when passed object-dtype sequences (matching Series behavior)\n",
            "  return Index(sequences[0], name=names)\n",
            "/home/livinnector/anaconda3/envs/ml/lib/python3.10/site-packages/pandas/core/indexes/base.py:6982: FutureWarning: In a future version, the Index constructor will not infer numeric dtypes when passed object-dtype sequences (matching Series behavior)\n",
            "  return Index(sequences[0], name=names)\n",
            "/home/livinnector/anaconda3/envs/ml/lib/python3.10/site-packages/pandas/core/indexes/base.py:6982: FutureWarning: In a future version, the Index constructor will not infer numeric dtypes when passed object-dtype sequences (matching Series behavior)\n",
            "  return Index(sequences[0], name=names)\n",
            "/tmp/ipykernel_46674/1212963646.py:12: FutureWarning: As the xlwt package is no longer maintained, the xlwt engine will be removed in a future version of pandas. This is the only engine in pandas that supports writing in the xls format. Install openpyxl and write to an xlsx file instead. You can set the option io.excel.xls.writer to 'xlwt' to silence this warning. While this option is deprecated and will also raise a warning, it can be globally set and the warning suppressed.\n",
            "  with pd.ExcelWriter(os.path.join(output_folder,dataset)) as writer:\n"
          ]
        }
      ],
      "source": [
        "start_column = 1\n",
        "header_start = \"S.NO\" \n",
        "aaq_datasets = os.listdir(\"aaq\")\n",
        "processed_datasets = {}\n",
        "output_folder = \"aaq_processed\"\n",
        "\n",
        "os.makedirs(output_folder,exist_ok=True)\n",
        "for dataset in aaq_datasets:\n",
        "  xl = pd.read_excel(os.path.join(\"aaq\",dataset),None,header=None)\n",
        "  xl = {name:process_df(df,header_start,start_column) for name,df in xl.items() }\n",
        "  processed_datasets[dataset]=xl\n",
        "  with pd.ExcelWriter(os.path.join(output_folder,dataset)) as writer:\n",
        "    for name,df in xl.items():\n",
        "      df.iloc[:,1:]=df.iloc[:,1:].apply(lambda x:pd.to_numeric(x,errors=\"coerce\",downcast=\"float\"))\n",
        "      drop_columns = [x for x in df.columns[1:] if not isinstance(x,datetime)]\n",
        "      df.drop(drop_columns,axis=1,inplace=True)\n",
        "      df.style.format(precision=1).to_excel(writer,sheet_name=name)"
      ]
    },
    {
      "cell_type": "code",
      "execution_count": null,
      "metadata": {
        "id": "qpL6b9gUR2Mt"
      },
      "outputs": [],
      "source": [
        "!mkdir -p dirve/MyDrive/datasets/aaq_processed\n",
        "!cp -r aaq_processed dirve/MyDrive/datasets/aaq_processed"
      ]
    },
    {
      "cell_type": "markdown",
      "metadata": {
        "id": "UjOcF4DHSGIN"
      },
      "source": [
        "# Vehicle sales dataset\n",
        "\n"
      ]
    },
    {
      "cell_type": "code",
      "execution_count": null,
      "metadata": {
        "id": "1Gn33qinSw4z"
      },
      "outputs": [],
      "source": [
        "json = get_json(\"https://data.telangana.gov.in/api/3/action/package_show?id=a26d65d6-99ce-46e1-930e-84039fbf3a6d\")\n",
        "transport_vehicle_dataset_urls = {item[\"name\"]: item[\"url\"] for item in json[\"result\"][0][\"resources\"]}  "
      ]
    },
    {
      "cell_type": "code",
      "execution_count": null,
      "metadata": {
        "id": "I6ex_GQYvMy-"
      },
      "outputs": [],
      "source": [
        "await download_urls_async(transport_vehicle_dataset_urls.values(),\"transport_vehicle_dataset\")"
      ]
    },
    {
      "cell_type": "code",
      "execution_count": null,
      "metadata": {
        "id": "lu9u2FbyvUQG"
      },
      "outputs": [],
      "source": [
        "!rm -r transport_vehicle_dataset"
      ]
    },
    {
      "cell_type": "code",
      "execution_count": null,
      "metadata": {
        "id": "KbYucdrYu-KB"
      },
      "outputs": [],
      "source": [
        "!mkdir -p drive/MyDrive/datasets/\n",
        "!cp -r transport_vehicle_dataset drive/MyDrive/datasets"
      ]
    },
    {
      "cell_type": "code",
      "execution_count": null,
      "metadata": {
        "id": "CoPAa3QZaRPf"
      },
      "outputs": [],
      "source": [
        "import pandas as pd"
      ]
    },
    {
      "cell_type": "code",
      "execution_count": null,
      "metadata": {
        "id": "JokVu3_pXRBg"
      },
      "outputs": [],
      "source": [
        "df= pd.read_csv(\"/content/ts_transport_vehicle_online_sales_01_01_2019to31_01_2019.csv\")\n",
        "df.head()"
      ]
    },
    {
      "cell_type": "code",
      "execution_count": null,
      "metadata": {
        "id": "EmE7HzopaO6z"
      },
      "outputs": [],
      "source": [
        "df[\"fuel\"].unique()"
      ]
    },
    {
      "cell_type": "code",
      "execution_count": null,
      "metadata": {
        "id": "IO3PubIffEQO"
      },
      "outputs": [],
      "source": [
        "df[\"seatCapacity\"].describe()"
      ]
    },
    {
      "cell_type": "code",
      "execution_count": null,
      "metadata": {
        "id": "JujtgfjTf5jd"
      },
      "outputs": [],
      "source": [
        "df[\"vehicleClass\"].unique()"
      ]
    },
    {
      "cell_type": "code",
      "execution_count": null,
      "metadata": {
        "id": "91PRQZ4bgBdr"
      },
      "outputs": [],
      "source": [
        "df[\"modelDesc\"].unique(),len(df[\"modelDesc\"].unique())"
      ]
    },
    {
      "cell_type": "code",
      "execution_count": null,
      "metadata": {
        "id": "78LAQFQhgsqC"
      },
      "outputs": [],
      "source": [
        "pd.read_csv('https://data.telangana.gov.in/sites/default/files/ts_transport_vehicle_online_sales_01_01_2019to31_01_2019.csv`')"
      ]
    },
    {
      "cell_type": "markdown",
      "metadata": {
        "id": "_7rRFuF8F9RY"
      },
      "source": [
        "# TS-NPDCL Industrial consumption data "
      ]
    },
    {
      "cell_type": "code",
      "execution_count": null,
      "metadata": {
        "id": "fVUmHyuDGIF0"
      },
      "outputs": [],
      "source": [
        "response = requests.get('https://data.telangana.gov.in/api/3/action/package_show?id=23298d38-cf5f-4954-93c3-c7baa5b63122')\n",
        "data = json.loads(response.text)"
      ]
    },
    {
      "cell_type": "code",
      "execution_count": null,
      "metadata": {
        "id": "oRyZox6UGXIh"
      },
      "outputs": [],
      "source": [
        "data=data['result'][0]"
      ]
    },
    {
      "cell_type": "code",
      "execution_count": null,
      "metadata": {
        "id": "V1GdWbrQGsRx"
      },
      "outputs": [],
      "source": [
        "data['resources'][i]['url']"
      ]
    },
    {
      "cell_type": "code",
      "execution_count": null,
      "metadata": {
        "id": "Bsyexzc9Oznl"
      },
      "outputs": [],
      "source": [
        "os.makedirs('Industrial consumption data')"
      ]
    },
    {
      "cell_type": "code",
      "execution_count": null,
      "metadata": {
        "id": "_VwVbwlxJH9y"
      },
      "outputs": [],
      "source": [
        "for i in data['resources']:\n",
        "  url=i['url']\n",
        "  filename = os.path.basename(urlparse(url).path)\n",
        "  urllib.request.urlretrieve(url, 'Industrial consumption data/'+filename)\n"
      ]
    },
    {
      "cell_type": "code",
      "execution_count": null,
      "metadata": {
        "id": "cwJBUk9lyVPW"
      },
      "outputs": [],
      "source": [
        "paths=os.listdir('Industrial consumption data')"
      ]
    },
    {
      "cell_type": "code",
      "execution_count": null,
      "metadata": {
        "id": "Hi65cctx6S0f"
      },
      "outputs": [],
      "source": [
        "df1=pd.DataFrame()"
      ]
    },
    {
      "cell_type": "code",
      "execution_count": null,
      "metadata": {
        "id": "Yeh-lfN25HHy"
      },
      "outputs": [],
      "source": [
        "# Merging csv [2019-2022] \n",
        "for i in paths:\n",
        "  df=pd.read_csv('Industrial consumption data/'+i)\n",
        "  a=i[39:-4].split('-')\n",
        "  df['date']=pd.to_datetime(a[0]+a[1])\n",
        "  df1=pd.concat([df1,df])"
      ]
    },
    {
      "cell_type": "markdown",
      "metadata": {
        "id": "iJmlf3sa5R9y"
      },
      "source": [
        "## EDA"
      ]
    },
    {
      "cell_type": "code",
      "execution_count": null,
      "metadata": {
        "id": "HCG8DwsYxj_q"
      },
      "outputs": [],
      "source": [
        "df1.groupby(by=df1.date).sum()[['Load','Units']].plot(figsize=(15,10),logy=True,kind='bar',subplots=True)"
      ]
    },
    {
      "cell_type": "code",
      "execution_count": null,
      "metadata": {
        "id": "kM8efcjA9UK6"
      },
      "outputs": [],
      "source": [
        "df1.groupby(by=df1.date).sum()[['Load','Units']].plot(figsize=(15,10),logy=False,kind='line',subplots=True)"
      ]
    },
    {
      "cell_type": "code",
      "execution_count": null,
      "metadata": {
        "id": "5VbY3xbF6DaB"
      },
      "outputs": [],
      "source": [
        "df1.groupby(by=df1.date).mean()[['Load','Units']].plot(figsize=(15,10),logy=False,kind='line',subplots=True)"
      ]
    },
    {
      "cell_type": "code",
      "execution_count": null,
      "metadata": {
        "id": "R6B5zrHv7C47"
      },
      "outputs": [],
      "source": [
        "df1.groupby(by=[df1.date.dt.year,df1.Circle]).sum()[['Load','Units']].plot(figsize=(15,10),logy=False,kind='bar',subplots=True)"
      ]
    },
    {
      "cell_type": "code",
      "execution_count": null,
      "metadata": {
        "id": "sPwV3oI46uvu"
      },
      "outputs": [],
      "source": [
        "df1.to_csv('Industrial consumption data.csv')"
      ]
    },
    {
      "cell_type": "markdown",
      "metadata": {
        "id": "rGNvFpCdSFG3"
      },
      "source": [
        "# Weather dataset\n",
        "\n",
        "- [2019](https://data.telangana.gov.in/api/3/action/package_show?id=c1c1ac69-928c-496f-880d-f406b2e51572)\n",
        "- [2020](https://data.telangana.gov.in/api/3/action/package_show?id=6ea39cf0-8e2d-42ce-8088-3778007a62bd)\n",
        "- [2021](https://data.telangana.gov.in/api/3/action/package_show?id=54ede4bd-ff05-4f71-a1db-177c0ed5dc72)\n",
        "- [2022](https://data.telangana.gov.in/api/3/action/package_show?id=0b746023-f987-4e5d-bda2-91090c4b57f1)\n",
        "\n",
        "\n"
      ]
    },
    {
      "cell_type": "code",
      "execution_count": null,
      "metadata": {
        "id": "aqa8GuRZWUJ9"
      },
      "outputs": [],
      "source": [
        "import numpy as np"
      ]
    },
    {
      "cell_type": "code",
      "execution_count": null,
      "metadata": {
        "id": "bzMXsjxKXD9n"
      },
      "outputs": [],
      "source": [
        "os.makedirs('weather dataset')"
      ]
    },
    {
      "cell_type": "code",
      "execution_count": null,
      "metadata": {
        "id": "nOYnsx_5TfGc"
      },
      "outputs": [],
      "source": [
        "whether_dataset_urls=[\n",
        "  'https://data.telangana.gov.in/api/3/action/package_show?id=telangana-weather-data-2022',\n",
        "  'https://data.telangana.gov.in/api/3/action/package_show?id=telangana-weather-data-2021',\n",
        "  'https://data.telangana.gov.in/api/3/action/package_show?id=telangana-weather-data-2020',\n",
        "  'https://data.telangana.gov.in/api/3/action/package_show?id=telangana-weather-data-2019',\n",
        "  'https://data.telangana.gov.in/api/3/action/package_show?id=telangana-weather-data-2018',\n",
        "]\n",
        "def get_csv_urls_from_dataset_url(url):\n",
        "  dataset = get_json(url)['result'][0]\n",
        "  return dataset[\"name\"],[resource[\"url\"] for resource in dataset[\"resources\"]]\n"
      ]
    },
    {
      "cell_type": "markdown",
      "metadata": {
        "id": "gER3_tyUUJQq"
      },
      "source": [
        "- datasets for AQI\n",
        "  - aqi - hyderabad, r_c_puram, warangal\n",
        "  - AAQ - hyderabad, r_c_puram, warangal\n",
        "    - so2\n",
        "    - nox\n",
        "    - pm10\n",
        "    - pm2.5\n",
        "    - co\n",
        "    - NH3\n",
        "    - benzene tolune\n",
        "  - weather - others locations\n",
        "\n",
        "- Datasets for Heat \n",
        "  - D\n"
      ]
    },
    {
      "cell_type": "code",
      "execution_count": null,
      "metadata": {
        "id": "gqESCa1o_Okq"
      },
      "outputs": [],
      "source": [
        "paths=os.listdir('/content/weather dataset')"
      ]
    },
    {
      "cell_type": "code",
      "execution_count": null,
      "metadata": {
        "id": "rbxIWKIaJWLO"
      },
      "outputs": [],
      "source": [
        "paths[12]"
      ]
    },
    {
      "cell_type": "code",
      "execution_count": null,
      "metadata": {
        "id": "kzW2REO-_XUu"
      },
      "outputs": [],
      "source": [
        "fd=pd.DataFrame()"
      ]
    },
    {
      "cell_type": "code",
      "execution_count": null,
      "metadata": {
        "id": "KA1UjtfMU_J_"
      },
      "outputs": [],
      "source": [
        "for i in paths:\n",
        "  if i[-1]=='x':\n",
        "    df=pd.read_excel('weather dataset/'+i)\n",
        "  else:\n",
        "    df=pd.read_csv('weather dataset/'+i)\n",
        "  df['Date']=pd.to_datetime(df.Date)\n",
        "  # print(df.columns)\n",
        "  fd=pd.concat([fd,df])"
      ]
    },
    {
      "cell_type": "code",
      "execution_count": null,
      "metadata": {
        "id": "B0sWQKeDTvTW"
      },
      "outputs": [],
      "source": [
        "pd.read_csv('weather dataset/april_to_june.csv',header=1).columns"
      ]
    },
    {
      "cell_type": "code",
      "execution_count": null,
      "metadata": {
        "id": "BwrX8pavD_qb"
      },
      "outputs": [],
      "source": [
        "fd=fd.drop(columns='Unnamed: 0')"
      ]
    },
    {
      "cell_type": "code",
      "execution_count": null,
      "metadata": {
        "id": "ZWG_0RLBBLY7"
      },
      "outputs": [],
      "source": [
        "fd.groupby(fd.Date.dt.month).mean().plot(subplots=True,figsize=(15,15))"
      ]
    },
    {
      "cell_type": "code",
      "execution_count": null,
      "metadata": {
        "id": "KKVYBSU1CJDq"
      },
      "outputs": [],
      "source": []
    },
    {
      "cell_type": "code",
      "execution_count": null,
      "metadata": {
        "id": "ZCNJaZ0W_5V9"
      },
      "outputs": [],
      "source": [
        "fd.plot(kind='line',x='Rainfall (mm)',y=fd.Date.dt.month)"
      ]
    },
    {
      "cell_type": "code",
      "execution_count": null,
      "metadata": {
        "id": "eTGuYlbHG0hb"
      },
      "outputs": [],
      "source": [
        "!rm -r 'weather dataset'"
      ]
    },
    {
      "cell_type": "markdown",
      "metadata": {
        "id": "FN7t8eGGuKDb"
      },
      "source": [
        "#### Exp"
      ]
    },
    {
      "cell_type": "code",
      "execution_count": null,
      "metadata": {
        "id": "kjisFlhLuNIg"
      },
      "outputs": [],
      "source": [
        "path=\"drive/MyDrive/datasets/aqi\""
      ]
    },
    {
      "cell_type": "code",
      "execution_count": null,
      "metadata": {
        "id": "oW0ypYEiD34n"
      },
      "outputs": [],
      "source": [
        "os.listdir(path)"
      ]
    },
    {
      "cell_type": "code",
      "execution_count": null,
      "metadata": {
        "id": "mzfpag0duP55"
      },
      "outputs": [],
      "source": [
        "\n",
        "pd.read_excel(path,header=4,usecols='B:O',sheet_name=0).dropna()"
      ]
    },
    {
      "cell_type": "code",
      "execution_count": null,
      "metadata": {
        "id": "7dWqn4-S_O0f"
      },
      "outputs": [],
      "source": [
        "os.makedirs('AQI')"
      ]
    },
    {
      "cell_type": "code",
      "execution_count": null,
      "metadata": {
        "id": "CAtkExUt9kkG"
      },
      "outputs": [],
      "source": [
        "def link_to_csv(links):\n",
        "  for i in links:\n",
        "    filename=os.path.basename(urlparse(i).path).replace('%','_')[:-5]\n",
        "    xlsx = pd.ExcelFile(i)\n",
        "\n",
        "    for sheet in xlsx.sheet_names:\n",
        "        df = pd.read_excel(xlsx, sheet_name=sheet,usecols='B:P').dropna(thresh=3).reset_index(drop=True)\n",
        "        df.to_csv('AQI/'+filename+sheet+'.csv',header=False)\n",
        "link_to_csv(aqi_links)"
      ]
    },
    {
      "cell_type": "code",
      "execution_count": null,
      "metadata": {
        "id": "ykx6ySDeAruH"
      },
      "outputs": [],
      "source": []
    },
    {
      "cell_type": "code",
      "execution_count": null,
      "metadata": {
        "id": "j9LZ_xcG5CBY"
      },
      "outputs": [],
      "source": []
    }
  ],
  "metadata": {
    "colab": {
      "collapsed_sections": [
        "rGNvFpCdSFG3",
        "FN7t8eGGuKDb"
      ],
      "private_outputs": true,
      "provenance": []
    },
    "gpuClass": "standard",
    "kernelspec": {
      "display_name": "ml",
      "language": "python",
      "name": "python3"
    },
    "language_info": {
      "codemirror_mode": {
        "name": "ipython",
        "version": 3
      },
      "file_extension": ".py",
      "mimetype": "text/x-python",
      "name": "python",
      "nbconvert_exporter": "python",
      "pygments_lexer": "ipython3",
      "version": "3.10.4"
    },
    "vscode": {
      "interpreter": {
        "hash": "4fd501de100fc151db62ff361c8a5d71a9c082bee3f35079a5b6db60799211dc"
      }
    }
  },
  "nbformat": 4,
  "nbformat_minor": 0
}
